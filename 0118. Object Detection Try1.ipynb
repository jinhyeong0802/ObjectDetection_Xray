{
 "cells": [
  {
   "cell_type": "markdown",
   "metadata": {},
   "source": [
    "**참고 블로그 링크**\n",
    "## YOLO\n",
    "1. [python 으로 openCV 사용하여 YOLO object detection](https://bong-sik.tistory.com/16)\n",
    "2. [How To Train an Object Detection Classifier for Multiple Objects Using TensorFlow (GPU) on Windows 10 -Git](https://github.com/EdjeElectronics/TensorFlow-Object-Detection-API-Tutorial-Train-Multiple-Objects-Windows-10)\n",
    "\n",
    "## Mask-RCNN\n",
    "1. [mask-rcnn 튜토리얼 블로그](https://wordbe.tistory.com/entry/Object-Detection-%EC%98%88%EC%A0%9C-%EC%84%A4%EB%AA%85-%EC%BD%94%EB%93%9C%ED%8F%AC%ED%95%A8-Pytorch)\n",
    "2. [YOLO vs Mask-RCNN 의 장점](https://m.blog.naver.com/PostView.nhn?blogId=tommybee&logNo=221662387296&proxyReferer=https:%2F%2Fwww.google.com%2F)\n",
    "3. [Mask-RCNN youtube](https://www.youtube.com/watch?v=2TikTv6PWDw)\n",
    "4. [Mask R-CNN Customize해서 나만의 디텍션 모델 만들기](https://hansonminlearning.tistory.com/16)"
   ]
  },
  {
   "cell_type": "markdown",
   "metadata": {},
   "source": [
    "# 1. Load Data (AIHUB)"
   ]
  },
  {
   "cell_type": "code",
   "execution_count": null,
   "metadata": {},
   "outputs": [],
   "source": [
    "class XrayDataset(utils.Dataset):"
   ]
  },
  {
   "cell_type": "code",
   "execution_count": null,
   "metadata": {},
   "outputs": [],
   "source": []
  }
 ],
 "metadata": {
  "kernelspec": {
   "display_name": "Python 3",
   "language": "python",
   "name": "python3"
  },
  "language_info": {
   "codemirror_mode": {
    "name": "ipython",
    "version": 3
   },
   "file_extension": ".py",
   "mimetype": "text/x-python",
   "name": "python",
   "nbconvert_exporter": "python",
   "pygments_lexer": "ipython3",
   "version": "3.7.4"
  }
 },
 "nbformat": 4,
 "nbformat_minor": 2
}
